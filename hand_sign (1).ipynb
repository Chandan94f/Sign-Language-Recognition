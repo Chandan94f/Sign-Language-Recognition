{
 "cells": [
  {
   "cell_type": "markdown",
   "metadata": {},
   "source": [
    "## Import required libraries"
   ]
  },
  {
   "cell_type": "code",
   "execution_count": 223,
   "metadata": {},
   "outputs": [],
   "source": [
    "import numpy as np \n",
    "import pandas as pd \n",
    "import matplotlib.pyplot as plt\n",
    "import cv2\n",
    "import tensorflow as tf\n",
    "from PIL import Image\n",
    "import os\n",
    "os.chdir('/home/sachin/Desktop/DIP/IndianSign')\n",
    "from sklearn.model_selection import train_test_split\n",
    "from tensorflow.keras.utils import to_categorical\n",
    "from keras.models import Sequential, load_model\n",
    "from keras.layers import Conv2D, MaxPool2D, Dense, Flatten, Dropout"
   ]
  },
  {
   "cell_type": "markdown",
   "metadata": {},
   "source": [
    "## Store data, labels in the list"
   ]
  },
  {
   "cell_type": "code",
   "execution_count": 224,
   "metadata": {},
   "outputs": [],
   "source": [
    "data = []\n",
    "labels = []\n",
    "classes = [\"award\",\"bowl\",\"burger\",\"doctor\",\"fight\",\"ghost\",\"gift\",\"good\",\"help\",\"i\",\"like\",\"meet\",\"promise\",\"same\",\"snake\",\"study\",\"wait\"]\n",
    "cur_path = os.getcwd()"
   ]
  },
  {
   "cell_type": "code",
   "execution_count": 225,
   "metadata": {},
   "outputs": [
    {
     "data": {
      "text/plain": [
       "'/home/sachin/Desktop/DIP/Traffic_Signs_WebApp'"
      ]
     },
     "execution_count": 225,
     "metadata": {},
     "output_type": "execute_result"
    }
   ],
   "source": [
    "cur_path"
   ]
  },
  {
   "cell_type": "markdown",
   "metadata": {},
   "source": [
    "## Preprocess the images"
   ]
  },
  {
   "cell_type": "code",
   "execution_count": 226,
   "metadata": {},
   "outputs": [],
   "source": [
    "for i in classes:\n",
    "    path = os.path.join(cur_path,'train',str(i))\n",
    "    images = os.listdir(path)\n",
    "    for a in images:\n",
    "        try:\n",
    "            image = Image.open(path +\"/\" + a)\n",
    "            image = image.resize((50,50))\n",
    "            image = np.array(image)\n",
    "            data.append(image)\n",
    "            labels.append(i)\n",
    "        except Exception as e:\n",
    "            print(e)"
   ]
  },
  {
   "cell_type": "markdown",
   "metadata": {},
   "source": [
    "## Converting lists into numpy arrays"
   ]
  },
  {
   "cell_type": "code",
   "execution_count": 227,
   "metadata": {},
   "outputs": [],
   "source": [
    "data = np.array(data)\n",
    "labels = np.array(labels)"
   ]
  },
  {
   "cell_type": "markdown",
   "metadata": {},
   "source": [
    "## Save Labels & Data for future use"
   ]
  },
  {
   "cell_type": "code",
   "execution_count": 228,
   "metadata": {},
   "outputs": [],
   "source": [
    "# os.mkdir('training')\n",
    "\n",
    "np.save('./training/data',data)\n",
    "np.save('./training/target',labels)"
   ]
  },
  {
   "cell_type": "markdown",
   "metadata": {},
   "source": [
    "## Load data & Labels"
   ]
  },
  {
   "cell_type": "code",
   "execution_count": 229,
   "metadata": {},
   "outputs": [],
   "source": [
    "data=np.load('./training/data.npy')\n",
    "labels=np.load('./training/target.npy')\n",
    "# doctor , hands , itch , maximum , wednesday,welcome , wood;"
   ]
  },
  {
   "cell_type": "code",
   "execution_count": 230,
   "metadata": {},
   "outputs": [
    {
     "name": "stdout",
     "output_type": "stream",
     "text": [
      "[0 0 0 0 0 0 0 0 0 0 0 0 0 0 0 0 0 0 0 0 0 0 0 0 0 0 0 0 0 0 0 0 0 0 0 0 0\n",
      " 0 0 0 0 0 0 0 0 0 0 0 0 0 0 0 0 0 0 0 0 0 1 1 1 1 1 1 1 1 1 1 1 1 1 1 1 1\n",
      " 1 1 1 1 1 1 1 1 1 1 1 1 1 1 1 1 1 1 1 1 1 1 1 1 1 1 1 1 1 1 1 1 1 1 1 1 1\n",
      " 1 1 1 1 1 2 2 2 2 2 2 2 2 2 2 2 2 2 2 2 2 2 2 2 2 2 2 2 2 2 2 2 2 2 2 2 2\n",
      " 2 2 2 2 2 2 2 2 2 2 2 2 2 2 2 2 2 2 2 2 2 2 2 2 2 2 2 3 3 3 3 3 3 3 3 3 3\n",
      " 3 3 3 3 3 3 3 3 3 3 3 3 3 3 3 3 3 3 3 3 3 3 3 3 3 3 3 3 3 3 3 3 3 3 3 3 3\n",
      " 3 3 3 3 3 3 3 3 3 3 3 4 4 4 4 4 4 4 4 4 4 4 4 4 4 4 4 4 4 4 4 4 4 4 4 4 4\n",
      " 4 4 4 4 4 4 4 4 4 4 4 4 4 4 4 4 4 4 4 4 4 4 4 4 4 4 4 4 4 4 4 4 5 5 5 5 5\n",
      " 5 5 5 5 5 5 5 5 5 5 5 5 5 5 5 5 5 5 5 5 5 5 5 5 5 5 5 5 5 5 5 5 5 5 5 5 5\n",
      " 5 5 5 5 5 5 5 5 5 5 5 5 5 6 6 6 6 6 6 6 6 6 6 6 6 6 6 6 6 6 6 6 6 6 6 6 6\n",
      " 6 6 6 6 6 6 6 6 6 6 6 6 6 6 6 6 6 6 6 6 6 6 6 6 6 6 6 6 6 6 6 6]\n"
     ]
    }
   ],
   "source": [
    "lut = np.sort(np.unique(labels))\n",
    "ind = np.searchsorted(lut,labels)\n",
    "labels = ind\n",
    "print(labels)\n",
    "# print(data.shape, labels.shape)"
   ]
  },
  {
   "cell_type": "code",
   "execution_count": 231,
   "metadata": {},
   "outputs": [],
   "source": [
    "X_t, X_test, y_t, y_test = train_test_split(data, labels, test_size=0.2, random_state=0)\n",
    "X_train,X_val,y_train,y_val = train_test_split(X_t,y_t,test_size=0.3,random_state=0)"
   ]
  },
  {
   "cell_type": "code",
   "execution_count": 232,
   "metadata": {},
   "outputs": [
    {
     "name": "stdout",
     "output_type": "stream",
     "text": [
      "(224, 50, 50, 3) (81, 50, 50, 3) (224,) (81,)\n",
      "[6 6 1 6 4 2 0 1 2 4 0 5 1 5 5 5 2 2 3 1 1 4 4 2 3 6 1 6 4 0 4 0 3 4 0 1 3\n",
      " 6 4 5 2 1 4 5 6 3 6 4 3 3 2 4 3 0 2 4 5 6 1 0 1 0 4 4 6 6 3 4 6 3 5 6 0 5\n",
      " 1 6 5 4 1 2 2 5 0 6 2 3 0 4 4 3 4 4 6 5 3 6 1 1 5 3 2 4 4 6 3 1 4 5 3 0 6\n",
      " 1 4 2 3 0 1 0 0 1 1 2 0 4 5 4 0 0 0 6 2 6 2 4 6 3 4 5 6 3 3 2 2 5 6 0 2 4\n",
      " 3 4 6 1 4 4 3 1 4 3 0 3 4 0 1 2 2 4 1 6 0 6 3 5 2 5 6 4 6 6 0 0 4 3 2 0 4\n",
      " 6 1 6 6 0 5 5 3 1 6 0 2 5 0 6 0 0 3 1 3 1 1 4 0 3 1 5 1 1 6 0 2 3 1 1 6 2\n",
      " 4 0]\n",
      "[3 6 1 1 1 5 3 3 2 5 0 6 3 2 0 5 5 2 3 2 1 6 2 6 3 4 2 0 3 1 1 3 2 5 1 5 4\n",
      " 3 3 1 4 2 4 0 0 5 1 0 2 5 2 5 6 2 5 6 2 4 0 0 0 0 4 2 0 3 4 5 6 0 2 2 2 0\n",
      " 0 1 0 1 0 4 5]\n"
     ]
    }
   ],
   "source": [
    "print(X_train.shape, X_test.shape, y_train.shape, y_test.shape)\n",
    "print(y_train)\n",
    "print(y_test)"
   ]
  },
  {
   "cell_type": "markdown",
   "metadata": {},
   "source": [
    "## Convert labels to onehot encoding"
   ]
  },
  {
   "cell_type": "code",
   "execution_count": 233,
   "metadata": {},
   "outputs": [],
   "source": [
    "y_train = to_categorical(y_train, 7)\n",
    "y_val =to_categorical(y_val, 7)\n",
    "#y_test = to_categorical(y_test, 7)"
   ]
  },
  {
   "cell_type": "markdown",
   "metadata": {},
   "source": [
    "## Now it's time to build the model"
   ]
  },
  {
   "cell_type": "code",
   "execution_count": 234,
   "metadata": {},
   "outputs": [],
   "source": [
    "model = Sequential()\n",
    "model.add(Conv2D(filters=32, kernel_size=(5,5), activation='relu', input_shape=X_train.shape[1:]))\n",
    "model.add(Conv2D(filters=32, kernel_size=(5,5), activation='relu'))\n",
    "model.add(MaxPool2D(pool_size=(2, 2)))\n",
    "model.add(Dropout(rate=0.25))\n",
    "model.add(Conv2D(filters=64, kernel_size=(3, 3), activation='relu'))\n",
    "model.add(Conv2D(filters=64, kernel_size=(3, 3), activation='relu'))\n",
    "model.add(MaxPool2D(pool_size=(2, 2)))\n",
    "model.add(Dropout(rate=0.25))\n",
    "model.add(Flatten())\n",
    "model.add(Dense(256, activation='relu'))\n",
    "model.add(Dropout(rate=0.5))\n",
    "model.add(Dense(7, activation='softmax'))"
   ]
  },
  {
   "cell_type": "code",
   "execution_count": 235,
   "metadata": {},
   "outputs": [],
   "source": [
    "#Compilation of the model\n",
    "model.compile(loss='categorical_crossentropy', optimizer='adam', metrics=['accuracy'])"
   ]
  },
  {
   "cell_type": "code",
   "execution_count": 236,
   "metadata": {},
   "outputs": [
    {
     "name": "stdout",
     "output_type": "stream",
     "text": [
      "Epoch 1/20\n",
      "7/7 [==============================] - 2s 181ms/step - loss: 28.0454 - accuracy: 0.1562 - val_loss: 1.9867 - val_accuracy: 0.2165\n",
      "Epoch 2/20\n",
      "7/7 [==============================] - 1s 174ms/step - loss: 2.0874 - accuracy: 0.1741 - val_loss: 1.9430 - val_accuracy: 0.1546\n",
      "Epoch 3/20\n",
      "7/7 [==============================] - 1s 187ms/step - loss: 1.9398 - accuracy: 0.2366 - val_loss: 1.9489 - val_accuracy: 0.1340\n",
      "Epoch 4/20\n",
      "7/7 [==============================] - 1s 216ms/step - loss: 1.9415 - accuracy: 0.2009 - val_loss: 1.9525 - val_accuracy: 0.1237\n",
      "Epoch 5/20\n",
      "7/7 [==============================] - 1s 196ms/step - loss: 1.9419 - accuracy: 0.1964 - val_loss: 1.9559 - val_accuracy: 0.1443\n",
      "Epoch 6/20\n",
      "7/7 [==============================] - 1s 170ms/step - loss: 1.9541 - accuracy: 0.2411 - val_loss: 1.9417 - val_accuracy: 0.2784\n",
      "Epoch 7/20\n",
      "7/7 [==============================] - 1s 165ms/step - loss: 1.8952 - accuracy: 0.2991 - val_loss: 2.0571 - val_accuracy: 0.2062\n",
      "Epoch 8/20\n",
      "7/7 [==============================] - 1s 181ms/step - loss: 1.8834 - accuracy: 0.3438 - val_loss: 1.9002 - val_accuracy: 0.2887\n",
      "Epoch 9/20\n",
      "7/7 [==============================] - 1s 180ms/step - loss: 1.7858 - accuracy: 0.3884 - val_loss: 1.7030 - val_accuracy: 0.2990\n",
      "Epoch 10/20\n",
      "7/7 [==============================] - 1s 177ms/step - loss: 1.7184 - accuracy: 0.3527 - val_loss: 1.7157 - val_accuracy: 0.3505\n",
      "Epoch 11/20\n",
      "7/7 [==============================] - 1s 177ms/step - loss: 1.5383 - accuracy: 0.4286 - val_loss: 1.5376 - val_accuracy: 0.4330\n",
      "Epoch 12/20\n",
      "7/7 [==============================] - 1s 167ms/step - loss: 1.4402 - accuracy: 0.5446 - val_loss: 1.2378 - val_accuracy: 0.5464\n",
      "Epoch 13/20\n",
      "7/7 [==============================] - 1s 167ms/step - loss: 1.1706 - accuracy: 0.5982 - val_loss: 1.1228 - val_accuracy: 0.6495\n",
      "Epoch 14/20\n",
      "7/7 [==============================] - 1s 178ms/step - loss: 1.1072 - accuracy: 0.6071 - val_loss: 1.0125 - val_accuracy: 0.6804\n",
      "Epoch 15/20\n",
      "7/7 [==============================] - 1s 167ms/step - loss: 0.8155 - accuracy: 0.7277 - val_loss: 0.9829 - val_accuracy: 0.6907\n",
      "Epoch 16/20\n",
      "7/7 [==============================] - 1s 187ms/step - loss: 0.6956 - accuracy: 0.7545 - val_loss: 0.8518 - val_accuracy: 0.7629\n",
      "Epoch 17/20\n",
      "7/7 [==============================] - 1s 167ms/step - loss: 0.6558 - accuracy: 0.8036 - val_loss: 0.8581 - val_accuracy: 0.7320\n",
      "Epoch 18/20\n",
      "7/7 [==============================] - 1s 166ms/step - loss: 0.5549 - accuracy: 0.8304 - val_loss: 0.8815 - val_accuracy: 0.7732\n",
      "Epoch 19/20\n",
      "7/7 [==============================] - 1s 177ms/step - loss: 0.5934 - accuracy: 0.8036 - val_loss: 0.7924 - val_accuracy: 0.7938\n",
      "Epoch 20/20\n",
      "7/7 [==============================] - 1s 166ms/step - loss: 0.4098 - accuracy: 0.8795 - val_loss: 0.9310 - val_accuracy: 0.7320\n"
     ]
    }
   ],
   "source": [
    "epochs = 20\n",
    "history = model.fit(X_train, y_train, batch_size=32, epochs=epochs, validation_data=(X_val, y_val))"
   ]
  },
  {
   "cell_type": "code",
   "execution_count": 237,
   "metadata": {},
   "outputs": [
    {
     "data": {
      "image/png": "[encoded data removed]",
      "text/plain": [
       "<Figure size 432x288 with 1 Axes>"
      ]
     },
     "metadata": {
      "needs_background": "light"
     },
     "output_type": "display_data"
    }
   ],
   "source": [
    "# accuracy \n",
    "plt.figure(0)\n",
    "plt.plot(history.history['accuracy'], label='training accuracy')\n",
    "plt.plot(history.history['val_accuracy'], label='val accuracy')\n",
    "plt.title('Accuracy')\n",
    "plt.xlabel('epochs')\n",
    "plt.ylabel('accuracy')\n",
    "plt.legend()\n",
    "plt.show()"
   ]
  },
  {
   "cell_type": "code",
   "execution_count": 238,
   "metadata": {},
   "outputs": [
    {
     "data": {
      "image/png": "[encoded data removed]",
      "text/plain": [
       "<Figure size 432x288 with 1 Axes>"
      ]
     },
     "metadata": {
      "needs_background": "light"
     },
     "output_type": "display_data"
    }
   ],
   "source": [
    "# Loss\n",
    "plt.plot(history.history['loss'], label='training loss')\n",
    "plt.plot(history.history['val_loss'], label='val loss')\n",
    "plt.title('Loss')\n",
    "plt.xlabel('epochs')\n",
    "plt.ylabel('loss')\n",
    "plt.legend()\n",
    "plt.show()"
   ]
  },
  {
   "cell_type": "markdown",
   "metadata": {},
   "source": [
    "## LEt's do testing on Test data"
   ]
  },
  {
   "cell_type": "code",
   "execution_count": 239,
   "metadata": {},
   "outputs": [],
   "source": [
    "# def testing(testcsv):\n",
    "#     y_test = pd.read_csv(testcsv)\n",
    "#     label = y_test[\"ClassId\"].values\n",
    "#     imgs = y_test[\"Path\"].values\n",
    "#     data=[]\n",
    "#     for img in imgs:\n",
    "#         image = Image.open(img)\n",
    "#         image = image.resize((30,30))\n",
    "#         data.append(np.array(image))\n",
    "#     X_test=np.array(data)\n",
    "#     return X_test,label"
   ]
  },
  {
   "cell_type": "code",
   "execution_count": 240,
   "metadata": {},
   "outputs": [],
   "source": [
    "#X_test, label = testing('Test.csv')"
   ]
  },
  {
   "cell_type": "code",
   "execution_count": 241,
   "metadata": {},
   "outputs": [
    {
     "name": "stdout",
     "output_type": "stream",
     "text": [
      "[3 6 6 1 1 3 1 3 2 5 0 6 3 2 0 5 6 4 0 4 1 6 2 6 3 4 2 0 3 1 1 4 2 5 6 5 4\n",
      " 3 0 1 4 4 4 0 0 5 1 0 2 5 4 5 0 2 5 6 2 4 2 0 4 4 4 0 2 3 4 4 6 0 2 1 2 0\n",
      " 0 1 0 1 4 4 5]\n",
      "[3 6 1 1 1 5 3 3 2 5 0 6 3 2 0 5 5 2 3 2 1 6 2 6 3 4 2 0 3 1 1 3 2 5 1 5 4\n",
      " 3 3 1 4 2 4 0 0 5 1 0 2 5 2 5 6 2 5 6 2 4 0 0 0 0 4 2 0 3 4 5 6 0 2 2 2 0\n",
      " 0 1 0 1 0 4 5]\n"
     ]
    }
   ],
   "source": [
    "pred = model.predict(X_test)\n",
    "Y_pred = np.argmax(pred,axis=1)\n",
    "print(Y_pred)\n",
    "print(y_test)\n"
   ]
  },
  {
   "cell_type": "markdown",
   "metadata": {},
   "source": [
    "## Accuracy with the test data"
   ]
  },
  {
   "cell_type": "code",
   "execution_count": 242,
   "metadata": {},
   "outputs": [
    {
     "name": "stdout",
     "output_type": "stream",
     "text": [
      "0.7407407407407407\n"
     ]
    }
   ],
   "source": [
    "from sklearn.metrics import accuracy_score\n",
    "print(accuracy_score(y_test, Y_pred))"
   ]
  },
  {
   "cell_type": "markdown",
   "metadata": {},
   "source": [
    "## Save the model"
   ]
  },
  {
   "cell_type": "code",
   "execution_count": 243,
   "metadata": {},
   "outputs": [],
   "source": [
    "model.save(\"./training/TSR.h5\")"
   ]
  },
  {
   "cell_type": "markdown",
   "metadata": {},
   "source": [
    "## Load the Model"
   ]
  },
  {
   "cell_type": "code",
   "execution_count": 244,
   "metadata": {},
   "outputs": [],
   "source": [
    "import os\n",
    "os.chdir(r'/home/sachin/Desktop/DIP/IndianSign')\n",
    "from keras.models import load_model\n",
    "model = load_model('./training/TSR.h5')"
   ]
  },
  {
   "cell_type": "code",
   "execution_count": 245,
   "metadata": {},
   "outputs": [],
   "source": [
    "# Classes of hand signs\n",
    "classes = { 0:'doctor',\n",
    "            1:'hands', \n",
    "            2:'itch', \n",
    "            3:'maximum', \n",
    "            4:'wednesday', \n",
    "            5:'welcome', \n",
    "            6:'wood' \n",
    "            }"
   ]
  },
  {
   "cell_type": "code",
   "execution_count": 246,
   "metadata": {},
   "outputs": [],
   "source": [
    "from PIL import Image\n",
    "import numpy as np\n",
    "import matplotlib.pyplot as plt\n",
    "def test_on_img(img):\n",
    "    data=[]\n",
    "    image = Image.open(img)\n",
    "    image = image.resize((50,50))\n",
    "    data.append(np.array(image))\n",
    "    X_test=np.array(data)\n",
    "    pred = model.predict(X_test)\n",
    "    Y_pred = np.argmax(pred,axis=1)\n",
    "    return image,Y_pred"
   ]
  },
  {
   "cell_type": "code",
   "execution_count": 251,
   "metadata": {},
   "outputs": [
    {
     "name": "stdout",
     "output_type": "stream",
     "text": [
      "Predicted sign :  maximum\n"
     ]
    },
    {
     "data": {
      "image/png": "[encoded data removed]",
      "text/plain": [
       "<Figure size 432x288 with 1 Axes>"
      ]
     },
     "metadata": {
      "needs_background": "light"
     },
     "output_type": "display_data"
    }
   ],
   "source": [
    "plot,prediction = test_on_img(r'/home/sachin/Desktop/DIP/IndianSign/2022-05-13-023053.jpg')\n",
    "s = [str(i) for i in prediction] \n",
    "a = int(\"\".join(s)) \n",
    "print(\"Predicted sign : \", classes[a])\n",
    "plt.imshow(plot)\n",
    "plt.show()"
   ]
  },
  {
   "cell_type": "code",
   "execution_count": null,
   "metadata": {},
   "outputs": [],
   "source": []
  }
 ],
 "metadata": {
  "kernelspec": {
   "display_name": "Python 3 (ipykernel)",
   "language": "python",
   "name": "python3"
  },
  "language_info": {
   "codemirror_mode": {
    "name": "ipython",
    "version": 3
   },
   "file_extension": ".py",
   "mimetype": "text/x-python",
   "name": "python",
   "nbconvert_exporter": "python",
   "pygments_lexer": "ipython3",
   "version": "3.8.10"
  }
 },
 "nbformat": 4,
 "nbformat_minor": 4
}

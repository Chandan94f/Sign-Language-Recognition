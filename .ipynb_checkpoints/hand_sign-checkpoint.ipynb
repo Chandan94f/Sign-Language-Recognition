{
 "cells": [
  {
   "cell_type": "markdown",
   "metadata": {
    "id": "b44HVs_xL31j"
   },
   "source": [
    "## Import required libraries"
   ]
  },
  {
   "cell_type": "code",
   "execution_count": 62,
   "metadata": {
    "id": "1ejT0SUJL31o"
   },
   "outputs": [],
   "source": [
    "import numpy as np \n",
    "import pandas as pd \n",
    "import matplotlib.pyplot as plt\n",
    "import cv2\n",
    "import tensorflow as tf\n",
    "from PIL import Image\n",
    "import os\n",
    "os.chdir('/content/drive/MyDrive/Data-set-final/')\n",
    "from sklearn.model_selection import train_test_split\n",
    "from tensorflow.keras.utils import to_categorical\n",
    "from keras.models import Sequential, load_model\n",
    "from keras.layers import Conv2D, MaxPool2D, Dense, Flatten, Dropout"
   ]
  },
  {
   "cell_type": "markdown",
   "metadata": {
    "id": "_QTQJjoFL31q"
   },
   "source": [
    "## Store data, labels in the list"
   ]
  },
  {
   "cell_type": "code",
   "execution_count": 63,
   "metadata": {
    "colab": {
     "base_uri": "https://localhost:8080/"
    },
    "id": "IRfB1GCqL8RQ",
    "outputId": "e45075be-8697-4d6d-c219-8f0d9fb1b433"
   },
   "outputs": [
    {
     "name": "stdout",
     "output_type": "stream",
     "text": [
      "Drive already mounted at /content/drive; to attempt to forcibly remount, call drive.mount(\"/content/drive\", force_remount=True).\n"
     ]
    }
   ],
   "source": [
    "from google.colab import drive\n",
    "drive.mount('/content/drive')"
   ]
  },
  {
   "cell_type": "code",
   "execution_count": 64,
   "metadata": {
    "colab": {
     "base_uri": "https://localhost:8080/"
    },
    "id": "7NYMYaHML31r",
    "outputId": "87e05563-13ac-4da7-ea61-036b3d4a2dc2"
   },
   "outputs": [
    {
     "data": {
      "text/plain": [
       "30"
      ]
     },
     "execution_count": 64,
     "metadata": {},
     "output_type": "execute_result"
    }
   ],
   "source": [
    "data = []\n",
    "labels = []\n",
    "\n",
    "cur_path = os.getcwd()\n",
    "len(classes)"
   ]
  },
  {
   "cell_type": "code",
   "execution_count": 65,
   "metadata": {
    "colab": {
     "base_uri": "https://localhost:8080/",
     "height": 35
    },
    "id": "uBejENISL31r",
    "outputId": "ba8938ab-c6eb-4788-dc1d-15d35c15f00d"
   },
   "outputs": [
    {
     "data": {
      "application/vnd.google.colaboratory.intrinsic+json": {
       "type": "string"
      },
      "text/plain": [
       "'/content/drive/.shortcut-targets-by-id/1pLklcbqWJ1rWacFJBKDY6Fp0EOF8_lM0/Data-set-final'"
      ]
     },
     "execution_count": 65,
     "metadata": {},
     "output_type": "execute_result"
    }
   ],
   "source": [
    "cur_path"
   ]
  },
  {
   "cell_type": "markdown",
   "metadata": {
    "id": "w9CRgLHrL31s"
   },
   "source": [
    "## Preprocess the images"
   ]
  },
  {
   "cell_type": "code",
   "execution_count": 66,
   "metadata": {
    "id": "U2rgQf7nL31s"
   },
   "outputs": [],
   "source": [
    "for i in classes:\n",
    "    path = os.path.join(cur_path,str(i))\n",
    "    images = os.listdir(path)\n",
    "    for a in images:\n",
    "        try:\n",
    "            image = Image.open(path +\"/\" + a)\n",
    "            image = image.resize((50,50))\n",
    "            image = np.array(image)\n",
    "            data.append(image)\n",
    "            labels.append(i)\n",
    "        except Exception as e:\n",
    "            print(e)"
   ]
  },
  {
   "cell_type": "markdown",
   "metadata": {
    "id": "BdM-vBFML31t"
   },
   "source": [
    "## Converting lists into numpy arrays"
   ]
  },
  {
   "cell_type": "code",
   "execution_count": 70,
   "metadata": {
    "id": "1ZTh5mNXL31u"
   },
   "outputs": [],
   "source": [
    "data = np.array(data)\n",
    "labels = np.array(labels)"
   ]
  },
  {
   "cell_type": "code",
   "execution_count": 80,
   "metadata": {
    "colab": {
     "base_uri": "https://localhost:8080/"
    },
    "id": "9pHEWcRavMDD",
    "outputId": "a4512d58-0411-4be2-c5fb-6c04f42c1576"
   },
   "outputs": [
    {
     "data": {
      "text/plain": [
       "30"
      ]
     },
     "execution_count": 80,
     "metadata": {},
     "output_type": "execute_result"
    }
   ],
   "source": [
    "len(classes)"
   ]
  },
  {
   "cell_type": "markdown",
   "metadata": {
    "id": "NVw2eQ3QL31u"
   },
   "source": [
    "## Save Labels & Data for future use"
   ]
  },
  {
   "cell_type": "code",
   "execution_count": 69,
   "metadata": {
    "colab": {
     "base_uri": "https://localhost:8080/",
     "height": 218
    },
    "id": "bM_BQJXuL31v",
    "outputId": "1f04e0df-0080-48a3-bf64-8f3782fcde8a"
   },
   "outputs": [
    {
     "ename": "FileExistsError",
     "evalue": "ignored",
     "output_type": "error",
     "traceback": [
      "\u001b[0;31m---------------------------------------------------------------------------\u001b[0m",
      "\u001b[0;31mFileExistsError\u001b[0m                           Traceback (most recent call last)",
      "\u001b[0;32m<ipython-input-69-941604a32441>\u001b[0m in \u001b[0;36m<module>\u001b[0;34m()\u001b[0m\n\u001b[0;32m----> 1\u001b[0;31m \u001b[0mos\u001b[0m\u001b[0;34m.\u001b[0m\u001b[0mmkdir\u001b[0m\u001b[0;34m(\u001b[0m\u001b[0;34m'training'\u001b[0m\u001b[0;34m)\u001b[0m\u001b[0;34m\u001b[0m\u001b[0;34m\u001b[0m\u001b[0m\n\u001b[0m\u001b[1;32m      2\u001b[0m \u001b[0;34m\u001b[0m\u001b[0m\n\u001b[1;32m      3\u001b[0m \u001b[0mnp\u001b[0m\u001b[0;34m.\u001b[0m\u001b[0msave\u001b[0m\u001b[0;34m(\u001b[0m\u001b[0;34m'./training/data'\u001b[0m\u001b[0;34m,\u001b[0m\u001b[0mdata\u001b[0m\u001b[0;34m)\u001b[0m\u001b[0;34m\u001b[0m\u001b[0;34m\u001b[0m\u001b[0m\n\u001b[1;32m      4\u001b[0m \u001b[0mnp\u001b[0m\u001b[0;34m.\u001b[0m\u001b[0msave\u001b[0m\u001b[0;34m(\u001b[0m\u001b[0;34m'./training/target'\u001b[0m\u001b[0;34m,\u001b[0m\u001b[0mlabels\u001b[0m\u001b[0;34m)\u001b[0m\u001b[0;34m\u001b[0m\u001b[0;34m\u001b[0m\u001b[0m\n",
      "\u001b[0;31mFileExistsError\u001b[0m: [Errno 17] File exists: 'training'"
     ]
    }
   ],
   "source": [
    "os.mkdir('training')\n",
    "\n",
    "np.save('./training/data',data)\n",
    "np.save('./training/target',labels)"
   ]
  },
  {
   "cell_type": "markdown",
   "metadata": {
    "id": "XuhG8ZGbL31v"
   },
   "source": [
    "## Load data & Labels"
   ]
  },
  {
   "cell_type": "code",
   "execution_count": 81,
   "metadata": {
    "colab": {
     "base_uri": "https://localhost:8080/"
    },
    "id": "Hg7-0_cYL31w",
    "outputId": "782ee3ae-2ec6-4202-db81-3f623fd424cf"
   },
   "outputs": [
    {
     "data": {
      "text/plain": [
       "array([ 0,  0,  0, ..., 28, 28, 28])"
      ]
     },
     "execution_count": 81,
     "metadata": {},
     "output_type": "execute_result"
    }
   ],
   "source": [
    "lut = np.sort(np.unique(labels))\n",
    "ind = np.searchsorted(lut,labels)\n",
    "labels = ind\n",
    "labels\n",
    "# print(data.shape, labels.shape)"
   ]
  },
  {
   "cell_type": "code",
   "execution_count": 72,
   "metadata": {
    "id": "_u_fa8foL31w"
   },
   "outputs": [],
   "source": [
    "X_t, X_test, y_t, y_test = train_test_split(data, labels, test_size=0.2, random_state=0)\n",
    "X_train,X_val,y_train,y_val = train_test_split(X_t,y_t,test_size=0.3,random_state=0)"
   ]
  },
  {
   "cell_type": "code",
   "execution_count": 73,
   "metadata": {
    "colab": {
     "base_uri": "https://localhost:8080/"
    },
    "id": "4WZAYG8pL31w",
    "outputId": "6179e38f-d218-448a-871a-0029b7bc5ed1"
   },
   "outputs": [
    {
     "name": "stdout",
     "output_type": "stream",
     "text": [
      "(989, 50, 50, 3) (354, 50, 50, 3) (989,) (354,)\n",
      "[26 19  8  6  7  4  4  9  9  9 10 22 11 20 25 10 16 14 13 19  9  9  9 24\n",
      " 12 16 21 13 17 22 24 16 14 25  5 10 15 20  0 13 11 12 26 19 23 11 24 27\n",
      "  0 24  7 18 26 24  7  7 11  6  1  2 15 24 18 11 13 16 11 11 24  8 19  2\n",
      "  7 22 11  9 19 25 14 16  5 15  9 23 20  4  1 16 20  3 24  8  9  1 23 25\n",
      " 13 25 26 18 21 27 11 10 28 27 13  2  8 23 26 21 10  1 28  2  5 26  2 13\n",
      "  0 11 25  8 13 28  6 21 26  3 16  9 20  8 17  9 13 26 17  6 22 21 25  9\n",
      " 22  5 19 18  4 18  9 19  0  8 19  5 15 13 19  6 28 28 11 12 24 12 17 14\n",
      " 22 19 19 27 10 20  6  6 21 28 20 23 11 11 11 19  4 19  7  1  3 24  5 27\n",
      " 25  5 23  1 21 23  1  8  6  4 26 27 16 24 20 12 13 16  2  2  6  9 13 21\n",
      "  6  1 15  6  7 22 21 19  2 16 17  7  3  1 18 28 28  2 17  1 23  5 18 12\n",
      " 21  3  0 20 15  7 27  3 20 21 23 23 26  5  9  8  9 10  9 27 25  3 13 15\n",
      " 14  5  3 25 12 15 11  9 10  8  4 14 25 14  5 22 22  2 25 21  8 19 14 14\n",
      " 19  8 25 21  1 14 20  0 21  2 12 13 10  6 20  9 20 21  2 25 22 19 13  9\n",
      " 22 17 26 10 22 12 18  8  5 21 20  5  6  0 13 12 17  9 28  3 18 19  7  4\n",
      "  7  1 28 21 14 10  8  2 16  3  3  3 14  0 19 23 16 13 15  9 22 26 10 18\n",
      " 16 10 23  2 27  3 24  2 25 14 18  0 10 12  6 22 22 21 24  4  6 13  2 11\n",
      " 13  4 26 17 27  9 17 12 23  7 16  0  8 23  6  9  6 19 22  0 20 20 28 26\n",
      " 25  8 26 26  9  8 26 13 25 17  3 28  5  8 25 17 25  4 20 17 14 12 13 10\n",
      " 10 18  1  5 17 14 22 18  6  5 14  3 23  9 27 19 14 19  9  6 14 14 10 16\n",
      " 25 28 28 12 16  9  3  9 23 16 14 27  3 15 16 20  3  7 14 18 28  1 10  9\n",
      " 27 24 24 23 12 20 16 27 22  5 16 14  1 18 27 22  5 16  3 13 10 24 17  9\n",
      "  8 22 18 17  1 23 13  0 15 28  6  4 18 23  4 16 19  7  1  9  2 28  1  4\n",
      " 18 11  6  6  8  4  1  4  4  8 19 11 23 27  2 27 11 10 15 23  3 27 26 17\n",
      " 26 21  1  2 15 24  7  2  9 22  8  6 28 16 10 20  5 22 21 13  9 19  1 16\n",
      " 10 15  1  6  8  3  1  1  7  8  3  2 10 22 10  0 14 27 15 28  0 24 24  5\n",
      "  8  5 12  2 24 26  0  9  3 25  3 24 23 26  0 12 28 21 17 15 13 14 24 10\n",
      " 14 10 17 22  6  4 12 24 17  7 28  4 20  9 24  5  5  1 21  9  5 10 17  2\n",
      " 13  5 15 20 27 15 28 28 26 17  2  7 17  3 20  0  9 27 18  9  8 23  1 14\n",
      " 12 24 19  7  9 11  4  9 24 16 12  4 27 28 17  0 22 22  6 11  6 11 26 14\n",
      " 25 20 28  7 14 24 10 11 20 18 25  2 24  6 15  1  8 13  7 14  5 20  0  5\n",
      "  9 15 22 27  5 20 25 14 21 11 17 23  2 17 23 23 17 18 16  9  9 26  5 18\n",
      " 17 13 18  1 21 17 27 17 12 13 16  6  0 10  9 15 27 12  7  2 25 12  7 19\n",
      "  8 19  6  4 10  1 19  2 23 21  6 22  9 25 21 10 22 21 20  7 14 11 20 24\n",
      "  2 14 20 15 12 17  9  1  5 21 20 25 25  4  1  3 25 25 15 15  9 27 18  9\n",
      " 27 17  7 13 13  4 13 18 11 18 12  7  9 27  3 16 13 28 13 18 25 15 16 26\n",
      " 27  9 21 13 19 12 27  4 26  1 19 18  9 13 16  4 11 22  9 17  8 18 16 21\n",
      "  1 20  2 17 25 15 10 15 15 24  2 19  0  4 21  0 11 24 21 26 20  4 10  0\n",
      "  9 14 13 23  9 15  0 25 22  7 28 25 22  0  4 15  9 23 20 15  9 12 19  8\n",
      " 25 28 26  5 16 17 18 10 11 19  3  5 27 17  9 22  4 11 11 12 25  2 10 18\n",
      "  1  4  7  9 25  0 23 22 19  5  5  0  1  9 26 26  9  3 20  4 20 24 21 24\n",
      " 13  2 17 23  9  9 14  6  4 12 13 24 19 19 12  9 24 27  7 22 28 23 19  1\n",
      "  9  4 18 11 17]\n",
      "[18 25  6 15 12 15 12 15 27 25  2  9 24  2  9 23  7 22  2  2 13 11  0 14\n",
      " 11 20 17  3  4  1 14 16 11 23 13  9  9  8  9 26 27 10 28 24 17 17  3 24\n",
      " 23 12 22  3 27 22  5 25  3 11  7 11 27  7 24  0  6  5 24  7 20  9 18  0\n",
      " 18  9  8  0 22  3 10 28 26  4  3 17  9 21  7 12 17  7 19  1 26  3 14  6\n",
      " 18  0  1 17 23 12 11  2 11 12 21 21  0 15 18 15  8 16  4 12 15 20  9 12\n",
      "  7 24  2 28 16 28 23 13 24 21 18 18 12  9 18 26 11 23 14  7 23 28  8 10\n",
      " 20 11 22  0 24 10  4 26  9  4  4 10 28  6  9 24  0  0  9 23 15 20 28 14\n",
      " 20 27  9  2 19 11  5 21  4 28  9 10  8 21 15 28 12  0 21  7  0 25 25 18\n",
      " 24  9 18  0  6 21  7  1 21 13 26  1  3 24 22  5 11 19  8  1  1 20  1 22\n",
      " 18  2 28 16  6 16  9 14 20  0 15 21  9  0 10  5 20 20 22  9 17 14  2 21\n",
      "  2  6  0  5  7 15 11 18 15  6  9  5  9 12 25 17 25 19 16  5  9 12 25 14\n",
      "  7  6 12  7 13 14 23 21 12 19  0  3 11  3  7 22 18  9 25  6  4  9 14  0\n",
      " 11 19 26 16 20 21 26 18 11  9  7 11 14 17  1 14  7 20 20  3  8 21 16 15\n",
      " 19 19 15 16  5 10 16 18 10 15 20  2 27  6  9  3  7 23 23 25 26  7  9 14\n",
      "  5 13  3  9 15  5 27  7  4 14  9 25 16 15 26 15 19  9]\n"
     ]
    }
   ],
   "source": [
    "print(X_train.shape, X_test.shape, y_train.shape, y_test.shape)\n",
    "print(y_train)\n",
    "print(y_test)"
   ]
  },
  {
   "cell_type": "markdown",
   "metadata": {
    "id": "iHUx9_sML31x"
   },
   "source": [
    "## Convert labels to onehot encoding"
   ]
  },
  {
   "cell_type": "code",
   "execution_count": 74,
   "metadata": {
    "id": "npo97_JnL31x"
   },
   "outputs": [],
   "source": [
    "y_train = to_categorical(y_train, 29)\n",
    "y_val =to_categorical(y_val, 29)\n",
    "#y_test = to_categorical(y_test, 7)"
   ]
  },
  {
   "cell_type": "markdown",
   "metadata": {
    "id": "5l6LHgmYL31x"
   },
   "source": [
    "## Now it's time to build the model"
   ]
  },
  {
   "cell_type": "code",
   "execution_count": 75,
   "metadata": {
    "id": "H94QI-EhL31x"
   },
   "outputs": [],
   "source": [
    "model = Sequential()\n",
    "model.add(Conv2D(filters=32, kernel_size=(5,5), activation='relu', input_shape=X_train.shape[1:]))\n",
    "model.add(Conv2D(filters=32, kernel_size=(5,5), activation='relu'))\n",
    "model.add(MaxPool2D(pool_size=(2, 2)))\n",
    "model.add(Dropout(rate=0.25))\n",
    "model.add(Conv2D(filters=64, kernel_size=(3, 3), activation='relu'))\n",
    "model.add(Conv2D(filters=64, kernel_size=(3, 3), activation='relu'))\n",
    "model.add(MaxPool2D(pool_size=(2, 2)))\n",
    "model.add(Dropout(rate=0.25))\n",
    "model.add(Flatten())\n",
    "model.add(Dense(256, activation='relu'))\n",
    "model.add(Dropout(rate=0.5))\n",
    "model.add(Dense(29, activation='softmax'))"
   ]
  },
  {
   "cell_type": "code",
   "execution_count": 76,
   "metadata": {
    "id": "vHg5DBLXL31y"
   },
   "outputs": [],
   "source": [
    "#Compilation of the model\n",
    "model.compile(loss='categorical_crossentropy', optimizer='adam', metrics=['accuracy'])"
   ]
  },
  {
   "cell_type": "code",
   "execution_count": 77,
   "metadata": {
    "colab": {
     "base_uri": "https://localhost:8080/"
    },
    "id": "qJspNaIfL31y",
    "outputId": "ee3b8029-162b-456f-de87-31645f712bca"
   },
   "outputs": [
    {
     "name": "stdout",
     "output_type": "stream",
     "text": [
      "Epoch 1/20\n",
      "31/31 [==============================] - 16s 502ms/step - loss: 9.8229 - accuracy: 0.0222 - val_loss: 3.3676 - val_accuracy: 0.0307\n",
      "Epoch 2/20\n",
      "31/31 [==============================] - 15s 494ms/step - loss: 3.3663 - accuracy: 0.0495 - val_loss: 3.3673 - val_accuracy: 0.0542\n",
      "Epoch 3/20\n",
      "31/31 [==============================] - 15s 494ms/step - loss: 3.3649 - accuracy: 0.0677 - val_loss: 3.3658 - val_accuracy: 0.0566\n",
      "Epoch 4/20\n",
      "31/31 [==============================] - 15s 496ms/step - loss: 3.3476 - accuracy: 0.0728 - val_loss: 3.3366 - val_accuracy: 0.0731\n",
      "Epoch 5/20\n",
      "31/31 [==============================] - 16s 507ms/step - loss: 3.2785 - accuracy: 0.0971 - val_loss: 3.1916 - val_accuracy: 0.1156\n",
      "Epoch 6/20\n",
      "31/31 [==============================] - 15s 493ms/step - loss: 3.0497 - accuracy: 0.1507 - val_loss: 3.0808 - val_accuracy: 0.2028\n",
      "Epoch 7/20\n",
      "31/31 [==============================] - 15s 493ms/step - loss: 2.8134 - accuracy: 0.2346 - val_loss: 2.6812 - val_accuracy: 0.2736\n",
      "Epoch 8/20\n",
      "31/31 [==============================] - 15s 495ms/step - loss: 2.3993 - accuracy: 0.3134 - val_loss: 2.3294 - val_accuracy: 0.4245\n",
      "Epoch 9/20\n",
      "31/31 [==============================] - 15s 493ms/step - loss: 2.0115 - accuracy: 0.4429 - val_loss: 2.0690 - val_accuracy: 0.4858\n",
      "Epoch 10/20\n",
      "31/31 [==============================] - 15s 493ms/step - loss: 1.8347 - accuracy: 0.4692 - val_loss: 1.9454 - val_accuracy: 0.5189\n",
      "Epoch 11/20\n",
      "31/31 [==============================] - 15s 494ms/step - loss: 1.5437 - accuracy: 0.5592 - val_loss: 1.7865 - val_accuracy: 0.5377\n",
      "Epoch 12/20\n",
      "31/31 [==============================] - 15s 494ms/step - loss: 1.3656 - accuracy: 0.5905 - val_loss: 1.6842 - val_accuracy: 0.5637\n",
      "Epoch 13/20\n",
      "31/31 [==============================] - 15s 492ms/step - loss: 1.0486 - accuracy: 0.6886 - val_loss: 1.6150 - val_accuracy: 0.5825\n",
      "Epoch 14/20\n",
      "31/31 [==============================] - 15s 493ms/step - loss: 1.0268 - accuracy: 0.6805 - val_loss: 1.6007 - val_accuracy: 0.5802\n",
      "Epoch 15/20\n",
      "31/31 [==============================] - 15s 493ms/step - loss: 0.9542 - accuracy: 0.7139 - val_loss: 1.4944 - val_accuracy: 0.6226\n",
      "Epoch 16/20\n",
      "31/31 [==============================] - 15s 494ms/step - loss: 0.7723 - accuracy: 0.7583 - val_loss: 1.4229 - val_accuracy: 0.6415\n",
      "Epoch 17/20\n",
      "31/31 [==============================] - 15s 492ms/step - loss: 0.6962 - accuracy: 0.7907 - val_loss: 1.4310 - val_accuracy: 0.6250\n",
      "Epoch 18/20\n",
      "31/31 [==============================] - 15s 494ms/step - loss: 0.6464 - accuracy: 0.8170 - val_loss: 1.3906 - val_accuracy: 0.6580\n",
      "Epoch 19/20\n",
      "31/31 [==============================] - 15s 494ms/step - loss: 0.5719 - accuracy: 0.8332 - val_loss: 1.3638 - val_accuracy: 0.6439\n",
      "Epoch 20/20\n",
      "31/31 [==============================] - 21s 682ms/step - loss: 0.4430 - accuracy: 0.8483 - val_loss: 1.3535 - val_accuracy: 0.6722\n"
     ]
    }
   ],
   "source": [
    "epochs = 20\n",
    "history = model.fit(X_train, y_train, batch_size=32, epochs=epochs, validation_data=(X_val, y_val))"
   ]
  },
  {
   "cell_type": "code",
   "execution_count": null,
   "metadata": {
    "colab": {
     "base_uri": "https://localhost:8080/",
     "height": 295
    },
    "id": "wrchUIiwL31y",
    "outputId": "0e0d68f9-c880-4885-b82c-0e7b72125728"
   },
   "outputs": [
    {
     "data": {
      "image/png": "[encoded data removed]",
      "text/plain": [
       "<Figure size 432x288 with 1 Axes>"
      ]
     },
     "metadata": {
      "needs_background": "light"
     },
     "output_type": "display_data"
    }
   ],
   "source": [
    "# accuracy \n",
    "plt.figure(0)\n",
    "plt.plot(history.history['accuracy'], label='training accuracy')\n",
    "plt.plot(history.history['val_accuracy'], label='val accuracy')\n",
    "plt.title('Accuracy')\n",
    "plt.xlabel('epochs')\n",
    "plt.ylabel('accuracy')\n",
    "plt.legend()\n",
    "plt.show()"
   ]
  },
  {
   "cell_type": "code",
   "execution_count": null,
   "metadata": {
    "colab": {
     "base_uri": "https://localhost:8080/",
     "height": 295
    },
    "id": "e-KlzVz3L31z",
    "outputId": "470137fc-4391-4ed0-99d3-820370aa8ae6"
   },
   "outputs": [
    {
     "data": {
      "image/png": "[encoded data removed]",
      "text/plain": [
       "<Figure size 432x288 with 1 Axes>"
      ]
     },
     "metadata": {
      "needs_background": "light"
     },
     "output_type": "display_data"
    }
   ],
   "source": [
    "# Loss\n",
    "plt.plot(history.history['loss'], label='training loss')\n",
    "plt.plot(history.history['val_loss'], label='val loss')\n",
    "plt.title('Loss')\n",
    "plt.xlabel('epochs')\n",
    "plt.ylabel('loss')\n",
    "plt.legend()\n",
    "plt.show()"
   ]
  },
  {
   "cell_type": "markdown",
   "metadata": {
    "id": "LbKxDWwgSoQu"
   },
   "source": [
    "# Training on VDCN"
   ]
  },
  {
   "cell_type": "code",
   "execution_count": 82,
   "metadata": {
    "id": "P8ilNH9fSn6m"
   },
   "outputs": [],
   "source": [
    "from tensorflow.keras.applications.vgg16 import VGG16\n",
    "\n",
    "base_model = VGG16(input_shape = (50, 50, 3),include_top = False,weights = 'imagenet')"
   ]
  },
  {
   "cell_type": "code",
   "execution_count": 83,
   "metadata": {
    "id": "KYUp2LGiSy1u"
   },
   "outputs": [],
   "source": [
    "for layer in base_model.layers:\n",
    "    layer.trainable = False"
   ]
  },
  {
   "cell_type": "code",
   "execution_count": 86,
   "metadata": {
    "colab": {
     "base_uri": "https://localhost:8080/"
    },
    "id": "P5MS0S2mSysk",
    "outputId": "adf0fce1-4dc5-47f9-f10e-bbdaa6c33353"
   },
   "outputs": [
    {
     "name": "stderr",
     "output_type": "stream",
     "text": [
      "/usr/local/lib/python3.7/dist-packages/keras/optimizer_v2/rmsprop.py:130: UserWarning: The `lr` argument is deprecated, use `learning_rate` instead.\n",
      "  super(RMSprop, self).__init__(name, **kwargs)\n"
     ]
    }
   ],
   "source": [
    "from tensorflow.keras import layers \n",
    "\n",
    "x = layers.Flatten()(base_model.output)\n",
    "x = layers.Dense(512, activation='relu')(x)\n",
    "x = layers.Dropout(0.5)(x)\n",
    "x = layers.Dense(29, activation='softmax')(x)\n",
    "\n",
    "model = tf.keras.models.Model(base_model.input, x)\n",
    "\n",
    "model.compile(optimizer = tf.keras.optimizers.RMSprop(lr=0.0001), loss = 'categorical_crossentropy',metrics = ['acc'])"
   ]
  },
  {
   "cell_type": "code",
   "execution_count": null,
   "metadata": {
    "colab": {
     "base_uri": "https://localhost:8080/"
    },
    "id": "iGGSj9UkSyqA",
    "outputId": "397d7674-de26-40b8-f05b-0a436c36311b"
   },
   "outputs": [
    {
     "name": "stdout",
     "output_type": "stream",
     "text": [
      "Epoch 1/100\n",
      "31/31 [==============================] - 35s 1s/step - loss: 27.6847 - acc: 0.0445 - val_loss: 14.0840 - val_acc: 0.0354\n",
      "Epoch 2/100\n",
      "31/31 [==============================] - 40s 1s/step - loss: 21.0367 - acc: 0.0688 - val_loss: 10.8177 - val_acc: 0.1132\n",
      "Epoch 3/100\n",
      "31/31 [==============================] - 36s 1s/step - loss: 18.2926 - acc: 0.1041 - val_loss: 8.6787 - val_acc: 0.1840\n",
      "Epoch 4/100\n",
      "31/31 [==============================] - 34s 1s/step - loss: 15.5117 - acc: 0.1274 - val_loss: 7.2458 - val_acc: 0.2453\n",
      "Epoch 5/100\n",
      "31/31 [==============================] - 34s 1s/step - loss: 13.6542 - acc: 0.1577 - val_loss: 6.3600 - val_acc: 0.2972\n",
      "Epoch 6/100\n",
      "31/31 [==============================] - 34s 1s/step - loss: 11.4034 - acc: 0.2255 - val_loss: 5.5107 - val_acc: 0.3325\n",
      "Epoch 7/100\n",
      "31/31 [==============================] - 34s 1s/step - loss: 10.1835 - acc: 0.2528 - val_loss: 4.8380 - val_acc: 0.3750\n",
      "Epoch 8/100\n",
      "31/31 [==============================] - 34s 1s/step - loss: 9.2704 - acc: 0.2791 - val_loss: 4.3997 - val_acc: 0.4292\n",
      "Epoch 9/100\n",
      "31/31 [==============================] - 34s 1s/step - loss: 7.8201 - acc: 0.3498 - val_loss: 3.9789 - val_acc: 0.4599\n",
      "Epoch 10/100\n",
      "31/31 [==============================] - 34s 1s/step - loss: 7.2203 - acc: 0.3579 - val_loss: 3.6261 - val_acc: 0.4858\n",
      "Epoch 11/100\n",
      "31/31 [==============================] - 34s 1s/step - loss: 6.4852 - acc: 0.3923 - val_loss: 3.3764 - val_acc: 0.5000\n",
      "Epoch 12/100\n",
      "31/31 [==============================] - 34s 1s/step - loss: 5.8028 - acc: 0.4186 - val_loss: 3.1182 - val_acc: 0.5189\n",
      "Epoch 13/100\n",
      "31/31 [==============================] - 34s 1s/step - loss: 4.4884 - acc: 0.4904 - val_loss: 2.9449 - val_acc: 0.5377\n",
      "Epoch 14/100\n",
      "31/31 [==============================] - 34s 1s/step - loss: 4.4706 - acc: 0.4722 - val_loss: 2.7610 - val_acc: 0.5613\n",
      "Epoch 15/100\n",
      "31/31 [==============================] - 34s 1s/step - loss: 4.0190 - acc: 0.5379 - val_loss: 2.6673 - val_acc: 0.5802\n",
      "Epoch 16/100\n",
      "31/31 [==============================] - 37s 1s/step - loss: 3.7306 - acc: 0.5349 - val_loss: 2.6010 - val_acc: 0.6014\n",
      "Epoch 17/100\n",
      "31/31 [==============================] - 34s 1s/step - loss: 3.3037 - acc: 0.5733 - val_loss: 2.4062 - val_acc: 0.6108\n",
      "Epoch 18/100\n",
      "31/31 [==============================] - 34s 1s/step - loss: 3.0036 - acc: 0.5784 - val_loss: 2.3256 - val_acc: 0.6061\n",
      "Epoch 19/100\n",
      "31/31 [==============================] - 34s 1s/step - loss: 2.5617 - acc: 0.6269 - val_loss: 2.1929 - val_acc: 0.6297\n",
      "Epoch 20/100\n",
      "31/31 [==============================] - 39s 1s/step - loss: 2.4844 - acc: 0.6208 - val_loss: 2.1321 - val_acc: 0.6297\n",
      "Epoch 21/100\n",
      "31/31 [==============================] - 34s 1s/step - loss: 2.3584 - acc: 0.6451 - val_loss: 2.0549 - val_acc: 0.6533\n",
      "Epoch 22/100\n",
      "31/31 [==============================] - 34s 1s/step - loss: 1.9713 - acc: 0.6916 - val_loss: 2.0108 - val_acc: 0.6533\n",
      "Epoch 23/100\n",
      "31/31 [==============================] - 34s 1s/step - loss: 1.7607 - acc: 0.6997 - val_loss: 1.9549 - val_acc: 0.6722\n",
      "Epoch 24/100\n",
      "31/31 [==============================] - 34s 1s/step - loss: 1.8266 - acc: 0.6886 - val_loss: 1.9715 - val_acc: 0.6509\n",
      "Epoch 25/100\n",
      "31/31 [==============================] - 34s 1s/step - loss: 1.5295 - acc: 0.7290 - val_loss: 1.8743 - val_acc: 0.6745\n",
      "Epoch 26/100\n",
      "31/31 [==============================] - 34s 1s/step - loss: 1.5595 - acc: 0.7280 - val_loss: 1.8687 - val_acc: 0.6722\n",
      "Epoch 27/100\n",
      "31/31 [==============================] - 34s 1s/step - loss: 1.2107 - acc: 0.7583 - val_loss: 1.8357 - val_acc: 0.6887\n",
      "Epoch 28/100\n",
      "31/31 [==============================] - 34s 1s/step - loss: 1.3325 - acc: 0.7482 - val_loss: 1.7775 - val_acc: 0.6887\n",
      "Epoch 29/100\n",
      "31/31 [==============================] - 34s 1s/step - loss: 1.3082 - acc: 0.7472 - val_loss: 1.7680 - val_acc: 0.6910\n",
      "Epoch 30/100\n",
      "31/31 [==============================] - 34s 1s/step - loss: 1.0883 - acc: 0.7877 - val_loss: 1.7360 - val_acc: 0.7028\n",
      "Epoch 31/100\n",
      "31/31 [==============================] - 34s 1s/step - loss: 1.1505 - acc: 0.7654 - val_loss: 1.7210 - val_acc: 0.7005\n",
      "Epoch 32/100\n",
      "31/31 [==============================] - 34s 1s/step - loss: 1.0228 - acc: 0.7927 - val_loss: 1.6761 - val_acc: 0.7005\n",
      "Epoch 33/100\n",
      "31/31 [==============================] - 34s 1s/step - loss: 0.8343 - acc: 0.8311 - val_loss: 1.6874 - val_acc: 0.6934\n",
      "Epoch 34/100\n",
      "31/31 [==============================] - 34s 1s/step - loss: 0.8215 - acc: 0.8160 - val_loss: 1.6468 - val_acc: 0.7028\n",
      "Epoch 35/100\n",
      "31/31 [==============================] - 34s 1s/step - loss: 0.7553 - acc: 0.8342 - val_loss: 1.5995 - val_acc: 0.7052\n",
      "Epoch 36/100\n",
      "31/31 [==============================] - 34s 1s/step - loss: 0.6881 - acc: 0.8332 - val_loss: 1.5694 - val_acc: 0.7146\n",
      "Epoch 37/100\n",
      "31/31 [==============================] - 34s 1s/step - loss: 0.5985 - acc: 0.8433 - val_loss: 1.5435 - val_acc: 0.7217\n",
      "Epoch 38/100\n",
      "31/31 [==============================] - 36s 1s/step - loss: 0.5813 - acc: 0.8544 - val_loss: 1.4973 - val_acc: 0.7264\n",
      "Epoch 39/100\n",
      "31/31 [==============================] - 34s 1s/step - loss: 0.5891 - acc: 0.8493 - val_loss: 1.4865 - val_acc: 0.7288\n",
      "Epoch 40/100\n",
      "31/31 [==============================] - 34s 1s/step - loss: 0.6396 - acc: 0.8615 - val_loss: 1.4714 - val_acc: 0.7358\n",
      "Epoch 41/100\n",
      "31/31 [==============================] - 34s 1s/step - loss: 0.5666 - acc: 0.8605 - val_loss: 1.4512 - val_acc: 0.7335\n",
      "Epoch 42/100\n",
      "31/31 [==============================] - 34s 1s/step - loss: 0.5388 - acc: 0.8766 - val_loss: 1.4388 - val_acc: 0.7311\n",
      "Epoch 43/100\n",
      "31/31 [==============================] - 34s 1s/step - loss: 0.4980 - acc: 0.8827 - val_loss: 1.4137 - val_acc: 0.7288\n",
      "Epoch 44/100\n",
      "31/31 [==============================] - 34s 1s/step - loss: 0.4616 - acc: 0.8959 - val_loss: 1.4266 - val_acc: 0.7476\n",
      "Epoch 45/100\n",
      "31/31 [==============================] - 34s 1s/step - loss: 0.4832 - acc: 0.8857 - val_loss: 1.4146 - val_acc: 0.7406\n",
      "Epoch 46/100\n",
      "31/31 [==============================] - 34s 1s/step - loss: 0.3689 - acc: 0.9110 - val_loss: 1.3719 - val_acc: 0.7453\n",
      "Epoch 47/100\n",
      "31/31 [==============================] - 34s 1s/step - loss: 0.4159 - acc: 0.8999 - val_loss: 1.3752 - val_acc: 0.7476\n",
      "Epoch 48/100\n",
      "31/31 [==============================] - 34s 1s/step - loss: 0.3589 - acc: 0.8979 - val_loss: 1.3992 - val_acc: 0.7382\n",
      "Epoch 49/100\n",
      "31/31 [==============================] - 34s 1s/step - loss: 0.3525 - acc: 0.9060 - val_loss: 1.4367 - val_acc: 0.7311\n",
      "Epoch 50/100\n",
      "31/31 [==============================] - 34s 1s/step - loss: 0.2950 - acc: 0.9232 - val_loss: 1.4330 - val_acc: 0.7288\n",
      "Epoch 51/100\n",
      "15/31 [=============>................] - ETA: 12s - loss: 0.3322 - acc: 0.9187"
     ]
    }
   ],
   "source": [
    "vgghist = model.fit(X_train, y_train, batch_size=32, epochs=100, validation_data=(X_val, y_val))"
   ]
  },
  {
   "cell_type": "code",
   "execution_count": null,
   "metadata": {
    "id": "lS8hdvbcSynt"
   },
   "outputs": [],
   "source": [
    " "
   ]
  },
  {
   "cell_type": "code",
   "execution_count": null,
   "metadata": {
    "id": "ZjMYPZ-lSyj1"
   },
   "outputs": [],
   "source": []
  },
  {
   "cell_type": "code",
   "execution_count": null,
   "metadata": {
    "id": "pKHTk17fSydd"
   },
   "outputs": [],
   "source": []
  },
  {
   "cell_type": "markdown",
   "metadata": {
    "id": "neEHEK72L31z"
   },
   "source": [
    "## LEt's do testing on Test data"
   ]
  },
  {
   "cell_type": "code",
   "execution_count": null,
   "metadata": {
    "id": "Y5gA-s6uL31z"
   },
   "outputs": [],
   "source": [
    "# def testing(testcsv):\n",
    "#     y_test = pd.read_csv(testcsv)\n",
    "#     label = y_test[\"ClassId\"].values\n",
    "#     imgs = y_test[\"Path\"].values\n",
    "#     data=[]\n",
    "#     for img in imgs:\n",
    "#         image = Image.open(img)\n",
    "#         image = image.resize((30,30))\n",
    "#         data.append(np.array(image))\n",
    "#     X_test=np.array(data)\n",
    "#     return X_test,label"
   ]
  },
  {
   "cell_type": "code",
   "execution_count": null,
   "metadata": {
    "id": "sJaAmMU-L31z"
   },
   "outputs": [],
   "source": [
    "#X_test, label = testing('Test.csv')"
   ]
  },
  {
   "cell_type": "code",
   "execution_count": null,
   "metadata": {
    "colab": {
     "base_uri": "https://localhost:8080/"
    },
    "id": "xH78D60aL31z",
    "outputId": "5ded8b32-1568-42ec-fb4f-4948fac9a7cf"
   },
   "outputs": [
    {
     "name": "stdout",
     "output_type": "stream",
     "text": [
      "[ 1 11 14 14 18 18  2  8  8 15  6 15  7 10 17 11 18 12  8  5  1  3 16 17\n",
      "  1  9  7  8  3 12 15  1 10  8  9  9 11 12 10  1  3  5 11  5  3 12 13 15\n",
      " 11  4  1  8  0  4 16 11  5  7  0  8  7 10 12 14 18  3 12  7 16 15  7  9\n",
      " 12 18 12 17 11  6  0  7 14 10  3  4  4 16 16  6  3 13 18 17  0  9 10  7\n",
      " 12  6  4 14 11  0  7 18 12  7  4  9  3 15  6  4  7 15 10  2  1  7  8 12\n",
      "  0  6 13 11  4 15 14  8 14 10 11 11  5 14  7 16 11 16 17 17  0  5 13 15\n",
      "  7 17  3  1 10  0  0  3  6 18 15  6 13 14 11  4  3 15  9  0  8  3 17  3\n",
      "  7  9  1 12  4  0  4  9  2  9 10  9 18  2 16 17  2 11  1  8  5 17 18 12\n",
      " 14 10 13 17 12  8 14  5 16 15 13  8  8 16  9 18  0 10  0  7  0  6 10  4\n",
      "  1  7 10 17 18  5 11 18 14]\n",
      "[17 11 17 14 18 18  2  8  8 15  6 15 16 10 17 11 18 12  8  5  1  3 16 17\n",
      "  1  9  7  8  8 12 15 17 10  8  9  9 11 12 10  1  3  5 11  5 11 13  8 15\n",
      " 11 16  7  8  0 16 16 11  5  7  0  8  7 16 12 14 18 11 12  7 16 15  7  9\n",
      " 12 13 12  7 11  6  0  7 14 10  3  7  4 16 16  6  3 13 18 17  0  9 10  7\n",
      " 12  6  4 14 11  0  7 18 12  7  4  9  3 15  6  4  7 15 10  2  1  8  8 12\n",
      "  0  0  3 11  4 15  1  7 14 10  6  6  5  9 14 16 11 16 14 17  0 18 13 15\n",
      " 18 14  3  1 10  0 16  3  6 18 15  8 13 14 10  4  3 15  9  0  8  3 17 11\n",
      "  7  9  1 12  4  4  4  9  2  9 10  9 18  2 16  1  2 11  1  8  5 17 13 12\n",
      " 14 10 13 17 12  8 14  5 16 15 13  8  8 16  9 18 11 10  0  7  0  0 10  4\n",
      "  1  7 10 17 18  5 11 18 14]\n"
     ]
    }
   ],
   "source": [
    "pred = model.predict(X_test)\n",
    "Y_pred = np.argmax(pred,axis=1)\n",
    "print(Y_pred)\n",
    "print(y_test)\n"
   ]
  },
  {
   "cell_type": "markdown",
   "metadata": {
    "id": "NbIcjs_ZL310"
   },
   "source": [
    "## Accuracy with the test data"
   ]
  },
  {
   "cell_type": "code",
   "execution_count": null,
   "metadata": {
    "colab": {
     "base_uri": "https://localhost:8080/"
    },
    "id": "2iq2W8syL310",
    "outputId": "1acaa00b-c464-4d88-ba47-a651a7300094"
   },
   "outputs": [
    {
     "name": "stdout",
     "output_type": "stream",
     "text": [
      "0.8311111111111111\n"
     ]
    }
   ],
   "source": [
    "from sklearn.metrics import accuracy_score\n",
    "print(accuracy_score(y_test, Y_pred))"
   ]
  },
  {
   "cell_type": "markdown",
   "metadata": {
    "id": "yrO6Jx0aL310"
   },
   "source": [
    "## Save the model"
   ]
  },
  {
   "cell_type": "code",
   "execution_count": null,
   "metadata": {
    "id": "GwjgekG7L310"
   },
   "outputs": [],
   "source": [
    "model.save(\"/content/h5 file/h5_format.h5\")"
   ]
  },
  {
   "cell_type": "code",
   "execution_count": null,
   "metadata": {
    "colab": {
     "base_uri": "https://localhost:8080/"
    },
    "id": "qtgkv25LgB3J",
    "outputId": "9f8bf90a-7669-475f-899c-35fbb8690ab7"
   },
   "outputs": [
    {
     "name": "stdout",
     "output_type": "stream",
     "text": [
      "INFO:tensorflow:Assets written to: /tmp/tmpbpr4vfew/assets\n"
     ]
    },
    {
     "name": "stderr",
     "output_type": "stream",
     "text": [
      "WARNING:absl:Buffer deduplication procedure will be skipped when flatbuffer library is not properly loaded\n"
     ]
    }
   ],
   "source": [
    "converter = tf.lite.TFLiteConverter.from_keras_model(model)\n",
    "tflite_model = converter.convert()\n",
    "with open('/content/h5 file/tflite_format.tflite', 'wb') as f:\n",
    "  f.write(tflite_model)"
   ]
  },
  {
   "cell_type": "markdown",
   "metadata": {
    "id": "MuEoP2fuL310"
   },
   "source": [
    "## Load the Model"
   ]
  },
  {
   "cell_type": "code",
   "execution_count": null,
   "metadata": {
    "id": "RgSC5tndL310"
   },
   "outputs": [],
   "source": [
    "import os\n",
    "os.chdir(r'/home/sachin/Desktop/DIP/IndianSign')\n",
    "from keras.models import load_model\n",
    "model = load_model('./training/TSR.h5')"
   ]
  },
  {
   "cell_type": "code",
   "execution_count": null,
   "metadata": {
    "id": "ie7dXqHuL311"
   },
   "outputs": [],
   "source": [
    "# Classes of hand signs\n",
    "classes = { 0:'doctor',\n",
    "            1:'hands', \n",
    "            2:'itch', \n",
    "            3:'maximum', \n",
    "            4:'wednesday', \n",
    "            5:'welcome', \n",
    "            6:'wood' \n",
    "            }"
   ]
  },
  {
   "cell_type": "code",
   "execution_count": null,
   "metadata": {
    "id": "YEgJVBVjL311"
   },
   "outputs": [],
   "source": [
    "from PIL import Image\n",
    "import numpy as np\n",
    "import matplotlib.pyplot as plt\n",
    "def test_on_img(img):\n",
    "    data=[]\n",
    "    image = Image.open(img)\n",
    "    image = image.resize((50,50))\n",
    "    data.append(np.array(image))\n",
    "    X_test=np.array(data)\n",
    "    pred = model.predict(X_test)\n",
    "    Y_pred = np.argmax(pred,axis=1)\n",
    "    return image,Y_pred"
   ]
  },
  {
   "cell_type": "code",
   "execution_count": null,
   "metadata": {
    "id": "GzlfPlf6L311",
    "outputId": "7ed2d0f9-cb10-4460-ba8e-5d2f251ebd0d"
   },
   "outputs": [
    {
     "name": "stdout",
     "output_type": "stream",
     "text": [
      "Predicted sign :  maximum\n"
     ]
    },
    {
     "data": {
      "image/png": "[encoded data removed]",
      "text/plain": [
       "<Figure size 432x288 with 1 Axes>"
      ]
     },
     "metadata": {
      "needs_background": "light"
     },
     "output_type": "display_data"
    }
   ],
   "source": [
    "plot,prediction = test_on_img(r'/home/sachin/Desktop/DIP/IndianSign/2022-05-13-023053.jpg')\n",
    "s = [str(i) for i in prediction] \n",
    "a = int(\"\".join(s)) \n",
    "print(\"Predicted sign : \", classes[a])\n",
    "plt.imshow(plot)\n",
    "plt.show()"
   ]
  },
  {
   "cell_type": "code",
   "execution_count": null,
   "metadata": {
    "id": "jSe5L5GYL311"
   },
   "outputs": [],
   "source": []
  }
 ],
 "metadata": {
  "colab": {
   "name": "hand_sign.ipynb",
   "provenance": []
  },
  "kernelspec": {
   "display_name": "Python 3 (ipykernel)",
   "language": "python",
   "name": "python3"
  },
  "language_info": {
   "codemirror_mode": {
    "name": "ipython",
    "version": 3
   },
   "file_extension": ".py",
   "mimetype": "text/x-python",
   "name": "python",
   "nbconvert_exporter": "python",
   "pygments_lexer": "ipython3",
   "version": "3.8.10"
  }
 },
 "nbformat": 4,
 "nbformat_minor": 1
}
